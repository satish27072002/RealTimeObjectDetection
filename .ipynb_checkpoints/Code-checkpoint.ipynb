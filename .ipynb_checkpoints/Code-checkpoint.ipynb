{
 "cells": [
  {
   "cell_type": "markdown",
   "metadata": {},
   "source": [
    "Resources Used\n",
    "- wget.download('https://tensorflow-object-detection-api-tutorial.readthedocs.io/en/latest/_downloads/da4babe668a8afb093cc7776d7e630f3/generate_tfrecord.py')\n",
    "- Setup https://tensorflow-object-detection-api-tutorial.readthedocs.io/en/latest/install.html"
   ]
  },
  {
   "cell_type": "markdown",
   "metadata": {},
   "source": [
    "# 0. Setup Paths"
   ]
  },
  {
   "cell_type": "code",
   "execution_count": 1,
   "metadata": {},
   "outputs": [],
   "source": [
    "import os\n",
    "\n",
    "WORKSPACE_PATH = os.path.abspath('Tensorflow/workspace')\n",
    "SCRIPTS_PATH = os.path.abspath('Tensorflow/scripts')\n",
    "APIMODEL_PATH = os.path.abspath('Tensorflow/models')\n",
    "ANNOTATION_PATH = os.path.join(WORKSPACE_PATH, 'annotations')\n",
    "IMAGE_PATH = os.path.join(WORKSPACE_PATH, 'images')\n",
    "MODEL_PATH = os.path.join(WORKSPACE_PATH, 'models')\n",
    "PRETRAINED_MODEL_PATH = os.path.join(WORKSPACE_PATH, 'pre-trained-models')\n",
    "CONFIG_PATH = os.path.join(MODEL_PATH, 'my_ssd_mobnet/pipeline.config')\n",
    "CHECKPOINT_PATH = os.path.join(MODEL_PATH, 'my_ssd_mobnet/')\n"
   ]
  },
  {
   "cell_type": "markdown",
   "metadata": {},
   "source": [
    "# 1. Create Label Map"
   ]
  },
  {
   "cell_type": "code",
   "execution_count": 2,
   "metadata": {},
   "outputs": [],
   "source": [
    "labels = [{'name':'Hello', 'id':1},\n",
    "          {'name':'Yes', 'id':2},\n",
    "          {'name':'No', 'id':3},\n",
    "          {'name':'Thank You', 'id':4},\n",
    "          {'name':'I Love You', 'id':5}\n",
    "         ]\n",
    "\n",
    "with open(ANNOTATION_PATH + '\\\\label_map.pbtxt', 'w') as f:\n",
    "    for label in labels:\n",
    "        f.write('item { \\n')\n",
    "        f.write('\\tname:\\'{}\\'\\n'.format(label['name']))\n",
    "        f.write('\\tid:{}\\n'.format(label['id']))\n",
    "        f.write('}\\n')"
   ]
  },
  {
   "cell_type": "code",
   "execution_count": 8,
   "metadata": {},
   "outputs": [
    {
     "name": "stdout",
     "output_type": "stream",
     "text": [
      "Train TFRecord output: \n",
      "Train TFRecord errors: Traceback (most recent call last):\n",
      "  File \"C:\\Users\\satish raj\\RealTimeObjectDetection\\Tensorflow\\scripts/generate_tfrecord.py\", line 46, in <module>\n",
      "    label_map_dict = label_map_util.get_label_map_dict(label_map)\n",
      "                     ^^^^^^^^^^^^^^^^^^^^^^^^^^^^^^^^^^^^^^^^^^^^\n",
      "  File \"C:\\Users\\satish raj\\AppData\\Local\\Programs\\Python\\Python312\\Lib\\site-packages\\object_detection\\utils\\label_map_util.py\", line 164, in get_label_map_dict\n",
      "    label_map = load_labelmap(label_map_path)\n",
      "                ^^^^^^^^^^^^^^^^^^^^^^^^^^^^^\n",
      "  File \"C:\\Users\\satish raj\\AppData\\Local\\Programs\\Python\\Python312\\Lib\\site-packages\\object_detection\\utils\\label_map_util.py\", line 133, in load_labelmap\n",
      "    label_map_string = fid.read()\n",
      "                       ^^^^^^^^^^\n",
      "  File \"C:\\Users\\satish raj\\AppData\\Local\\Programs\\Python\\Python312\\Lib\\site-packages\\tensorflow\\python\\lib\\io\\file_io.py\", line 116, in read\n",
      "    self._preread_check()\n",
      "  File \"C:\\Users\\satish raj\\AppData\\Local\\Programs\\Python\\Python312\\Lib\\site-packages\\tensorflow\\python\\lib\\io\\file_io.py\", line 77, in _preread_check\n",
      "    self._read_buf = _pywrap_file_io.BufferedInputStream(\n",
      "                     ^^^^^^^^^^^^^^^^^^^^^^^^^^^^^^^^^^^^\n",
      "TypeError: __init__(): incompatible constructor arguments. The following argument types are supported:\n",
      "    1. tensorflow.python.lib.io._pywrap_file_io.BufferedInputStream(filename: str, buffer_size: int, token: tensorflow.python.lib.io._pywrap_file_io.TransactionToken = None)\n",
      "\n",
      "Invoked with: item {\n",
      "  name: \"Hello\"\n",
      "  id: 1\n",
      "}\n",
      "item {\n",
      "  name: \"Yes\"\n",
      "  id: 2\n",
      "}\n",
      "item {\n",
      "  name: \"No\"\n",
      "  id: 3\n",
      "}\n",
      "item {\n",
      "  name: \"Thank You\"\n",
      "  id: 4\n",
      "}\n",
      "item {\n",
      "  name: \"I Love You\"\n",
      "  id: 5\n",
      "}\n",
      ", 524288\n",
      "\n",
      "Test TFRecord output: \n",
      "Test TFRecord errors: Traceback (most recent call last):\n",
      "  File \"C:\\Users\\satish raj\\RealTimeObjectDetection\\Tensorflow\\scripts/generate_tfrecord.py\", line 46, in <module>\n",
      "    label_map_dict = label_map_util.get_label_map_dict(label_map)\n",
      "                     ^^^^^^^^^^^^^^^^^^^^^^^^^^^^^^^^^^^^^^^^^^^^\n",
      "  File \"C:\\Users\\satish raj\\AppData\\Local\\Programs\\Python\\Python312\\Lib\\site-packages\\object_detection\\utils\\label_map_util.py\", line 164, in get_label_map_dict\n",
      "    label_map = load_labelmap(label_map_path)\n",
      "                ^^^^^^^^^^^^^^^^^^^^^^^^^^^^^\n",
      "  File \"C:\\Users\\satish raj\\AppData\\Local\\Programs\\Python\\Python312\\Lib\\site-packages\\object_detection\\utils\\label_map_util.py\", line 133, in load_labelmap\n",
      "    label_map_string = fid.read()\n",
      "                       ^^^^^^^^^^\n",
      "  File \"C:\\Users\\satish raj\\AppData\\Local\\Programs\\Python\\Python312\\Lib\\site-packages\\tensorflow\\python\\lib\\io\\file_io.py\", line 116, in read\n",
      "    self._preread_check()\n",
      "  File \"C:\\Users\\satish raj\\AppData\\Local\\Programs\\Python\\Python312\\Lib\\site-packages\\tensorflow\\python\\lib\\io\\file_io.py\", line 77, in _preread_check\n",
      "    self._read_buf = _pywrap_file_io.BufferedInputStream(\n",
      "                     ^^^^^^^^^^^^^^^^^^^^^^^^^^^^^^^^^^^^\n",
      "TypeError: __init__(): incompatible constructor arguments. The following argument types are supported:\n",
      "    1. tensorflow.python.lib.io._pywrap_file_io.BufferedInputStream(filename: str, buffer_size: int, token: tensorflow.python.lib.io._pywrap_file_io.TransactionToken = None)\n",
      "\n",
      "Invoked with: item {\n",
      "  name: \"Hello\"\n",
      "  id: 1\n",
      "}\n",
      "item {\n",
      "  name: \"Yes\"\n",
      "  id: 2\n",
      "}\n",
      "item {\n",
      "  name: \"No\"\n",
      "  id: 3\n",
      "}\n",
      "item {\n",
      "  name: \"Thank You\"\n",
      "  id: 4\n",
      "}\n",
      "item {\n",
      "  name: \"I Love You\"\n",
      "  id: 5\n",
      "}\n",
      ", 524288\n",
      "\n"
     ]
    }
   ],
   "source": [
    "import subprocess\n",
    "\n",
    "# Generating train TFRecord\n",
    "result_train = subprocess.run(\n",
    "    f'python \"{SCRIPTS_PATH}/generate_tfrecord.py\" -x \"{IMAGE_PATH}/train\" -l \"{ANNOTATION_PATH}/label_map.pbtxt\" -o \"{ANNOTATION_PATH}/train.record\"',\n",
    "    shell=True, capture_output=True, text=True\n",
    ")\n",
    "print(\"Train TFRecord output:\", result_train.stdout)\n",
    "print(\"Train TFRecord errors:\", result_train.stderr)\n",
    "\n",
    "# Generating test TFRecord\n",
    "result_test = subprocess.run(\n",
    "    f'python \"{SCRIPTS_PATH}/generate_tfrecord.py\" -x \"{IMAGE_PATH}/test\" -l \"{ANNOTATION_PATH}/label_map.pbtxt\" -o \"{ANNOTATION_PATH}/test.record\"',\n",
    "    shell=True, capture_output=True, text=True\n",
    ")\n",
    "print(\"Test TFRecord output:\", result_test.stdout)\n",
    "print(\"Test TFRecord errors:\", result_test.stderr)\n"
   ]
  },
  {
   "cell_type": "code",
   "execution_count": 9,
   "metadata": {},
   "outputs": [
    {
     "name": "stdout",
     "output_type": "stream",
     "text": [
      "True\n"
     ]
    }
   ],
   "source": [
    "import os\n",
    "print(os.path.exists(f\"{ANNOTATION_PATH}/label_map.pbtxt\"))\n"
   ]
  },
  {
   "cell_type": "markdown",
   "metadata": {},
   "source": [
    "# 2. Create TF records"
   ]
  },
  {
   "cell_type": "code",
   "execution_count": 10,
   "metadata": {
    "scrolled": true
   },
   "outputs": [
    {
     "data": {
      "text/plain": [
       "1"
      ]
     },
     "execution_count": 10,
     "metadata": {},
     "output_type": "execute_result"
    }
   ],
   "source": [
    "os.system(f'python \"{SCRIPTS_PATH}/generate_tfrecord.py\" -x \"{IMAGE_PATH}/train\" -l \"{ANNOTATION_PATH}/label_map.pbtxt\" -o \"{ANNOTATION_PATH}/train.record\"')\n",
    "os.system(f'python \"{SCRIPTS_PATH}/generate_tfrecord.py\" -x \"{IMAGE_PATH}/test\" -l \"{ANNOTATION_PATH}/label_map.pbtxt\" -o \"{ANNOTATION_PATH}/test.record\"')"
   ]
  },
  {
   "cell_type": "code",
   "execution_count": 7,
   "metadata": {},
   "outputs": [
    {
     "name": "stdout",
     "output_type": "stream",
     "text": [
      " Volume in drive C is Windows\n",
      " Volume Serial Number is 366B-9018\n",
      "\n",
      " Directory of C:\\Users\\satish raj\\RealTimeObjectDetection\\Tensorflow\\scripts\n",
      "\n"
     ]
    },
    {
     "name": "stderr",
     "output_type": "stream",
     "text": [
      "File Not Found\n"
     ]
    }
   ],
   "source": [
    "!dir \"{SCRIPTS_PATH}/generate_tfrecord.py\"\n"
   ]
  },
  {
   "cell_type": "markdown",
   "metadata": {},
   "source": [
    "# 3. Download TF Models Pretrained Models from Tensorflow Model Zoo"
   ]
  },
  {
   "cell_type": "code",
   "execution_count": 7,
   "metadata": {},
   "outputs": [
    {
     "name": "stderr",
     "output_type": "stream",
     "text": [
      "Cloning into 'models'...\n",
      "Updating files:  24% (936/3875)\n",
      "Updating files:  25% (969/3875)\n",
      "Updating files:  26% (1008/3875)\n",
      "Updating files:  27% (1047/3875)\n",
      "Updating files:  28% (1085/3875)\n",
      "Updating files:  29% (1124/3875)\n",
      "Updating files:  30% (1163/3875)\n",
      "Updating files:  31% (1202/3875)\n",
      "Updating files:  32% (1240/3875)\n",
      "Updating files:  33% (1279/3875)\n",
      "Updating files:  34% (1318/3875)\n",
      "Updating files:  35% (1357/3875)\n",
      "Updating files:  36% (1395/3875)\n",
      "Updating files:  37% (1434/3875)\n",
      "Updating files:  38% (1473/3875)\n",
      "Updating files:  39% (1512/3875)\n",
      "Updating files:  40% (1550/3875)\n",
      "Updating files:  41% (1589/3875)\n",
      "Updating files:  41% (1623/3875)\n",
      "Updating files:  42% (1628/3875)\n",
      "Updating files:  43% (1667/3875)\n",
      "Updating files:  44% (1705/3875)\n",
      "Updating files:  45% (1744/3875)\n",
      "Updating files:  46% (1783/3875)\n",
      "Updating files:  47% (1822/3875)\n",
      "Updating files:  48% (1860/3875)\n",
      "Updating files:  49% (1899/3875)\n",
      "Updating files:  50% (1938/3875)\n",
      "Updating files:  51% (1977/3875)\n",
      "Updating files:  52% (2015/3875)\n",
      "Updating files:  53% (2054/3875)\n",
      "Updating files:  54% (2093/3875)\n",
      "Updating files:  55% (2132/3875)\n",
      "Updating files:  56% (2170/3875)\n",
      "Updating files:  57% (2209/3875)\n",
      "Updating files:  58% (2248/3875)\n",
      "Updating files:  59% (2287/3875)\n",
      "Updating files:  60% (2325/3875)\n",
      "Updating files:  61% (2364/3875)\n",
      "Updating files:  61% (2381/3875)\n",
      "Updating files:  62% (2403/3875)\n",
      "Updating files:  63% (2442/3875)\n",
      "Updating files:  64% (2480/3875)\n",
      "Updating files:  65% (2519/3875)\n",
      "Updating files:  66% (2558/3875)\n",
      "Updating files:  67% (2597/3875)\n",
      "Updating files:  68% (2635/3875)\n",
      "Updating files:  69% (2674/3875)\n",
      "Updating files:  70% (2713/3875)\n",
      "Updating files:  71% (2752/3875)\n",
      "Updating files:  72% (2790/3875)\n",
      "Updating files:  73% (2829/3875)\n",
      "Updating files:  74% (2868/3875)\n",
      "Updating files:  75% (2907/3875)\n",
      "Updating files:  76% (2945/3875)\n",
      "Updating files:  77% (2984/3875)\n",
      "Updating files:  78% (3023/3875)\n",
      "Updating files:  79% (3062/3875)\n",
      "Updating files:  80% (3100/3875)\n",
      "Updating files:  81% (3139/3875)\n",
      "Updating files:  81% (3158/3875)\n",
      "Updating files:  82% (3178/3875)\n",
      "Updating files:  83% (3217/3875)\n",
      "Updating files:  84% (3255/3875)\n",
      "Updating files:  85% (3294/3875)\n",
      "Updating files:  86% (3333/3875)\n",
      "Updating files:  87% (3372/3875)\n",
      "Updating files:  88% (3410/3875)\n",
      "Updating files:  89% (3449/3875)\n",
      "Updating files:  90% (3488/3875)\n",
      "Updating files:  91% (3527/3875)\n",
      "Updating files:  92% (3565/3875)\n",
      "Updating files:  93% (3604/3875)\n",
      "Updating files:  94% (3643/3875)\n",
      "Updating files:  95% (3682/3875)\n",
      "Updating files:  96% (3720/3875)\n",
      "Updating files:  97% (3759/3875)\n",
      "Updating files:  98% (3798/3875)\n",
      "Updating files:  99% (3837/3875)\n",
      "Updating files: 100% (3875/3875)\n",
      "Updating files: 100% (3875/3875), done.\n"
     ]
    }
   ],
   "source": [
    "!cd Tensorflow && git clone https://github.com/tensorflow/models"
   ]
  },
  {
   "cell_type": "code",
   "execution_count": 8,
   "metadata": {},
   "outputs": [],
   "source": [
    "#wget.download('http://download.tensorflow.org/models/object_detection/tf2/20200711/ssd_mobilenet_v2_fpnlite_320x320_coco17_tpu-8.tar.gz')\n",
    "#!mv ssd_mobilenet_v2_fpnlite_320x320_coco17_tpu-8.tar.gz {PRETRAINED_MODEL_PATH}\n",
    "#!cd {PRETRAINED_MODEL_PATH} && tar -zxvf ssd_mobilenet_v2_fpnlite_320x320_coco17_tpu-8.tar.gz"
   ]
  },
  {
   "cell_type": "markdown",
   "metadata": {},
   "source": [
    "# 4. Copy Model Config to Training Folder"
   ]
  },
  {
   "cell_type": "code",
   "execution_count": 9,
   "metadata": {},
   "outputs": [],
   "source": [
    "CUSTOM_MODEL_NAME = 'my_ssd_mobnet' "
   ]
  },
  {
   "cell_type": "code",
   "execution_count": 10,
   "metadata": {},
   "outputs": [
    {
     "name": "stderr",
     "output_type": "stream",
     "text": [
      "<string>:1: SyntaxWarning: invalid escape sequence '\\w'\n",
      "'cp' is not recognized as an internal or external command,\n",
      "operable program or batch file.\n"
     ]
    }
   ],
   "source": [
    "!mkdir {'Tensorflow\\workspace\\models\\\\'+CUSTOM_MODEL_NAME}\n",
    "!cp {PRETRAINED_MODEL_PATH+'/ssd_mobilenet_v2_fpnlite_320x320_coco17_tpu-8/pipeline.config'} {MODEL_PATH+'/'+CUSTOM_MODEL_NAME}"
   ]
  },
  {
   "cell_type": "markdown",
   "metadata": {},
   "source": [
    "# 5. Update Config For Transfer Learning"
   ]
  },
  {
   "cell_type": "code",
   "execution_count": 11,
   "metadata": {},
   "outputs": [
    {
     "ename": "ModuleNotFoundError",
     "evalue": "No module named 'object_detection'",
     "output_type": "error",
     "traceback": [
      "\u001b[1;31m---------------------------------------------------------------------------\u001b[0m",
      "\u001b[1;31mModuleNotFoundError\u001b[0m                       Traceback (most recent call last)",
      "Cell \u001b[1;32mIn[11], line 2\u001b[0m\n\u001b[0;32m      1\u001b[0m \u001b[38;5;28;01mimport\u001b[39;00m \u001b[38;5;21;01mtensorflow\u001b[39;00m \u001b[38;5;28;01mas\u001b[39;00m \u001b[38;5;21;01mtf\u001b[39;00m\n\u001b[1;32m----> 2\u001b[0m \u001b[38;5;28;01mfrom\u001b[39;00m \u001b[38;5;21;01mobject_detection\u001b[39;00m\u001b[38;5;21;01m.\u001b[39;00m\u001b[38;5;21;01mutils\u001b[39;00m \u001b[38;5;28;01mimport\u001b[39;00m config_util\n\u001b[0;32m      3\u001b[0m \u001b[38;5;28;01mfrom\u001b[39;00m \u001b[38;5;21;01mobject_detection\u001b[39;00m\u001b[38;5;21;01m.\u001b[39;00m\u001b[38;5;21;01mprotos\u001b[39;00m \u001b[38;5;28;01mimport\u001b[39;00m pipeline_pb2\n\u001b[0;32m      4\u001b[0m \u001b[38;5;28;01mfrom\u001b[39;00m \u001b[38;5;21;01mgoogle\u001b[39;00m\u001b[38;5;21;01m.\u001b[39;00m\u001b[38;5;21;01mprotobuf\u001b[39;00m \u001b[38;5;28;01mimport\u001b[39;00m text_format\n",
      "\u001b[1;31mModuleNotFoundError\u001b[0m: No module named 'object_detection'"
     ]
    }
   ],
   "source": [
    "import tensorflow as tf\n",
    "from object_detection.utils import config_util\n",
    "from object_detection.protos import pipeline_pb2\n",
    "from google.protobuf import text_format"
   ]
  },
  {
   "cell_type": "code",
   "execution_count": null,
   "metadata": {},
   "outputs": [],
   "source": [
    "CONFIG_PATH = MODEL_PATH+'/'+CUSTOM_MODEL_NAME+'/pipeline.config'"
   ]
  },
  {
   "cell_type": "code",
   "execution_count": null,
   "metadata": {},
   "outputs": [],
   "source": [
    "config = config_util.get_configs_from_pipeline_file(CONFIG_PATH)"
   ]
  },
  {
   "cell_type": "code",
   "execution_count": null,
   "metadata": {},
   "outputs": [],
   "source": [
    "config"
   ]
  },
  {
   "cell_type": "code",
   "execution_count": null,
   "metadata": {},
   "outputs": [],
   "source": [
    "pipeline_config = pipeline_pb2.TrainEvalPipelineConfig()\n",
    "with tf.io.gfile.GFile(CONFIG_PATH, \"r\") as f:                                                                                                                                                                                                                     \n",
    "    proto_str = f.read()                                                                                                                                                                                                                                          \n",
    "    text_format.Merge(proto_str, pipeline_config)  "
   ]
  },
  {
   "cell_type": "code",
   "execution_count": null,
   "metadata": {},
   "outputs": [],
   "source": [
    "pipeline_config.model.ssd.num_classes = 2\n",
    "pipeline_config.train_config.batch_size = 4\n",
    "pipeline_config.train_config.fine_tune_checkpoint = PRETRAINED_MODEL_PATH+'/ssd_mobilenet_v2_fpnlite_320x320_coco17_tpu-8/checkpoint/ckpt-0'\n",
    "pipeline_config.train_config.fine_tune_checkpoint_type = \"detection\"\n",
    "pipeline_config.train_input_reader.label_map_path= ANNOTATION_PATH + '/label_map.pbtxt'\n",
    "pipeline_config.train_input_reader.tf_record_input_reader.input_path[:] = [ANNOTATION_PATH + '/train.record']\n",
    "pipeline_config.eval_input_reader[0].label_map_path = ANNOTATION_PATH + '/label_map.pbtxt'\n",
    "pipeline_config.eval_input_reader[0].tf_record_input_reader.input_path[:] = [ANNOTATION_PATH + '/test.record']"
   ]
  },
  {
   "cell_type": "code",
   "execution_count": null,
   "metadata": {},
   "outputs": [],
   "source": [
    "config_text = text_format.MessageToString(pipeline_config)                                                                                                                                                                                                        \n",
    "with tf.io.gfile.GFile(CONFIG_PATH, \"wb\") as f:                                                                                                                                                                                                                     \n",
    "    f.write(config_text)   "
   ]
  },
  {
   "cell_type": "markdown",
   "metadata": {},
   "source": [
    "# 6. Train the model"
   ]
  },
  {
   "cell_type": "code",
   "execution_count": null,
   "metadata": {},
   "outputs": [],
   "source": [
    "print(\"\"\"python {}/research/object_detection/model_main_tf2.py --model_dir={}/{} --pipeline_config_path={}/{}/pipeline.config --num_train_steps=5000\"\"\".format(APIMODEL_PATH, MODEL_PATH,CUSTOM_MODEL_NAME,MODEL_PATH,CUSTOM_MODEL_NAME))"
   ]
  },
  {
   "cell_type": "markdown",
   "metadata": {},
   "source": [
    "# 7. Load Train Model From Checkpoint"
   ]
  },
  {
   "cell_type": "code",
   "execution_count": null,
   "metadata": {},
   "outputs": [],
   "source": [
    "import os\n",
    "from object_detection.utils import label_map_util\n",
    "from object_detection.utils import visualization_utils as viz_utils\n",
    "from object_detection.builders import model_builder"
   ]
  },
  {
   "cell_type": "code",
   "execution_count": null,
   "metadata": {},
   "outputs": [],
   "source": [
    "# Load pipeline config and build a detection model\n",
    "configs = config_util.get_configs_from_pipeline_file(CONFIG_PATH)\n",
    "detection_model = model_builder.build(model_config=configs['model'], is_training=False)\n",
    "\n",
    "# Restore checkpoint\n",
    "ckpt = tf.compat.v2.train.Checkpoint(model=detection_model)\n",
    "ckpt.restore(os.path.join(CHECKPOINT_PATH, 'ckpt-6')).expect_partial()\n",
    "\n",
    "@tf.function\n",
    "def detect_fn(image):\n",
    "    image, shapes = detection_model.preprocess(image)\n",
    "    prediction_dict = detection_model.predict(image, shapes)\n",
    "    detections = detection_model.postprocess(prediction_dict, shapes)\n",
    "    return detections"
   ]
  },
  {
   "cell_type": "markdown",
   "metadata": {},
   "source": [
    "# 8. Detect in Real-Time"
   ]
  },
  {
   "cell_type": "code",
   "execution_count": null,
   "metadata": {},
   "outputs": [],
   "source": [
    "import cv2 \n",
    "import numpy as np"
   ]
  },
  {
   "cell_type": "code",
   "execution_count": null,
   "metadata": {},
   "outputs": [],
   "source": [
    "category_index = label_map_util.create_category_index_from_labelmap(ANNOTATION_PATH+'/label_map.pbtxt')"
   ]
  },
  {
   "cell_type": "code",
   "execution_count": null,
   "metadata": {},
   "outputs": [],
   "source": [
    "cap.release()"
   ]
  },
  {
   "cell_type": "code",
   "execution_count": null,
   "metadata": {},
   "outputs": [],
   "source": [
    "# Setup capture\n",
    "cap = cv2.VideoCapture(0)\n",
    "width = int(cap.get(cv2.CAP_PROP_FRAME_WIDTH))\n",
    "height = int(cap.get(cv2.CAP_PROP_FRAME_HEIGHT))"
   ]
  },
  {
   "cell_type": "code",
   "execution_count": null,
   "metadata": {},
   "outputs": [],
   "source": [
    "while True: \n",
    "    ret, frame = cap.read()\n",
    "    image_np = np.array(frame)\n",
    "    \n",
    "    input_tensor = tf.convert_to_tensor(np.expand_dims(image_np, 0), dtype=tf.float32)\n",
    "    detections = detect_fn(input_tensor)\n",
    "    \n",
    "    num_detections = int(detections.pop('num_detections'))\n",
    "    detections = {key: value[0, :num_detections].numpy()\n",
    "                  for key, value in detections.items()}\n",
    "    detections['num_detections'] = num_detections\n",
    "\n",
    "    # detection_classes should be ints.\n",
    "    detections['detection_classes'] = detections['detection_classes'].astype(np.int64)\n",
    "\n",
    "    label_id_offset = 1\n",
    "    image_np_with_detections = image_np.copy()\n",
    "\n",
    "    viz_utils.visualize_boxes_and_labels_on_image_array(\n",
    "                image_np_with_detections,\n",
    "                detections['detection_boxes'],\n",
    "                detections['detection_classes']+label_id_offset,\n",
    "                detections['detection_scores'],\n",
    "                category_index,\n",
    "                use_normalized_coordinates=True,\n",
    "                max_boxes_to_draw=5,\n",
    "                min_score_thresh=.5,\n",
    "                agnostic_mode=False)\n",
    "\n",
    "    cv2.imshow('object detection',  cv2.resize(image_np_with_detections, (800, 600)))\n",
    "    \n",
    "    if cv2.waitKey(1) & 0xFF == ord('q'):\n",
    "        cap.release()\n",
    "        break"
   ]
  },
  {
   "cell_type": "code",
   "execution_count": null,
   "metadata": {},
   "outputs": [],
   "source": [
    "detections = detect_fn(input_tensor)"
   ]
  },
  {
   "cell_type": "code",
   "execution_count": null,
   "metadata": {},
   "outputs": [],
   "source": [
    "from matplotlib import pyplot as plt"
   ]
  },
  {
   "cell_type": "code",
   "execution_count": null,
   "metadata": {},
   "outputs": [],
   "source": []
  }
 ],
 "metadata": {
  "kernelspec": {
   "display_name": "Python 3 (ipykernel)",
   "language": "python",
   "name": "python3"
  },
  "language_info": {
   "codemirror_mode": {
    "name": "ipython",
    "version": 3
   },
   "file_extension": ".py",
   "mimetype": "text/x-python",
   "name": "python",
   "nbconvert_exporter": "python",
   "pygments_lexer": "ipython3",
   "version": "3.12.7"
  }
 },
 "nbformat": 4,
 "nbformat_minor": 4
}
